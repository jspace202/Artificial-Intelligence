{
  "cells": [
    {
      "cell_type": "markdown",
      "metadata": {
        "id": "y5s-S-Q0XqCL"
      },
      "source": [
        "#Part a"
      ]
    },
    {
      "cell_type": "code",
      "execution_count": null,
      "metadata": {
        "id": "rVmWXxrhL_Pd"
      },
      "outputs": [],
      "source": [
        "#Load exdata1 Data use np.loadtxt\n",
        "\n",
        "import numpy as np\n",
        "data = np.loadtxt('ex2data1.txt')\n",
        "\n"
      ]
    },
    {
      "cell_type": "markdown",
      "metadata": {
        "id": "QyaF2URTMO7i"
      },
      "source": [
        "#Visualize the Data"
      ]
    },
    {
      "cell_type": "markdown",
      "metadata": {
        "id": "bgTS2p1WMWQW"
      },
      "source": [
        "Your plot should look like the figure below, exact markers and colors are not important as long as labels and legend are correct"
      ]
    },
    {
      "cell_type": "markdown",
      "metadata": {
        "id": "ufNaDlKaMgd3"
      },
      "source": [
        "![image.png](data:image/png;base64,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)"
      ]
    },
    {
      "cell_type": "code",
      "execution_count": null,
      "metadata": {
        "colab": {
          "base_uri": "https://localhost:8080/",
          "height": 279
        },
        "id": "KMshGKopMN8Q",
        "outputId": "25e60fa5-a483-437c-d6a8-25c57c5af646"
      },
      "outputs": [
        {
          "output_type": "display_data",
          "data": {
            "text/plain": [
              "<Figure size 432x288 with 1 Axes>"
            ],
            "image/png": "[encoded data removed]"
          },
          "metadata": {
            "needs_background": "light"
          }
        }
      ],
      "source": [
        "# Import relevant library to plot the data\n",
        "from pylab import scatter, show, legend, xlabel, ylabel\n",
        "X = data[:, :2]\n",
        "y = data[:, 2]\n",
        "pos = np.where(y == 1)\n",
        "neg = np.where(y == 0)\n",
        "scatter(X[pos, 0], X[pos, 1], marker='x', c='black')\n",
        "scatter(X[neg, 0], X[neg, 1], marker='o', c='y')\n",
        "xlabel('Exam 1 score')\n",
        "ylabel('Exam 2 score')\n",
        "legend(['Not Admitted', 'Admitted'])\n",
        "show()"
      ]
    },
    {
      "cell_type": "markdown",
      "metadata": {
        "id": "wrCzsKtgMrJ0"
      },
      "source": [
        "#Sigmoid Function"
      ]
    },
    {
      "cell_type": "markdown",
      "metadata": {
        "id": "xWMtR7LUMu2P"
      },
      "source": [
        "Logistic Regression Hypothesis and Sigmoid function is given below and implementation is given in MATLAB, write the function for sigmoid below"
      ]
    },
    {
      "cell_type": "markdown",
      "metadata": {
        "id": "jHdUe9IlIIb9"
      },
      "source": [
        "\\begin{align}\n",
        "\\ h_{\\theta}(x) = g(\\theta^Tx),.\n",
        "\\end{align}\n",
        "\n"
      ]
    },
    {
      "cell_type": "markdown",
      "metadata": {
        "id": "l51v3H7LJYsI"
      },
      "source": [
        "\\begin{align}\n",
        "        g(z) = \\frac{1}{1+e^{-z}}\n",
        "\\end{align}"
      ]
    },
    {
      "cell_type": "code",
      "execution_count": null,
      "metadata": {
        "id": "kQ91yDfEM9Mr"
      },
      "outputs": [],
      "source": [
        "#WRITE FUNCTION HERE\n",
        "\n",
        "def sigmoid(X):\n",
        "    '''Compute the sigmoid function '''\n",
        "    g = 1/(1 + np.exp(-X))\n",
        "    return g\n"
      ]
    },
    {
      "cell_type": "code",
      "execution_count": null,
      "metadata": {
        "colab": {
          "base_uri": "https://localhost:8080/"
        },
        "id": "jy8z0J4nM4SR",
        "outputId": "9a6076ce-41af-45a4-ce5d-b3f1f243d93d"
      },
      "outputs": [
        {
          "output_type": "stream",
          "name": "stdout",
          "text": [
            "0.5\n",
            "0.7310585786300049\n",
            "0.8807970779778823\n",
            "0.9933071490757153\n",
            "0.9999546021312976\n",
            "0.2689414213699951\n",
            "0.0066928509242848554\n",
            "4.5397868702434395e-05\n",
            "0.6224593312018546\n",
            "0.5002499999791666\n"
          ]
        }
      ],
      "source": [
        "#Provide input values to the sigmoid function below and run to check the function\n",
        "print(sigmoid(0))\n",
        "print(sigmoid(1))\n",
        "print(sigmoid(2))\n",
        "print(sigmoid(5))\n",
        "print(sigmoid(10))\n",
        "print(sigmoid(-1))\n",
        "print(sigmoid(-5))\n",
        "print(sigmoid(-10))\n",
        "print(sigmoid(0.5))\n",
        "print(sigmoid(0.001))"
      ]
    },
    {
      "cell_type": "markdown",
      "metadata": {
        "id": "tKuOYOYQNHdJ"
      },
      "source": [
        "#Cost Function and Gradient"
      ]
    },
    {
      "cell_type": "markdown",
      "metadata": {
        "id": "nEvNp9VtNYBk"
      },
      "source": [
        "The logistic regression cost function and gradient is given below."
      ]
    },
    {
      "cell_type": "markdown",
      "metadata": {
        "id": "2DF5NFsvJhSX"
      },
      "source": [
        "\\begin{align}\n",
        "        J(\\theta) =\\frac{1}{m}\\sum_{i=1}^m[-y^{(i)}\\log(h_{\\theta}(x^{(i)}))- (1 -y^{(i)})\\log(1- h_{\\theta}(x^{(i)}))\n",
        "\\end{align}"
      ]
    },
    {
      "cell_type": "markdown",
      "metadata": {
        "id": "l83SHHIJK8dE"
      },
      "source": [
        "\\begin{align}\n",
        "    \\frac{\\partial J(\\theta)}{\\partial \\theta_j} = \\frac{1}{m}\\sum_{i=1}^m( h_\\theta(x^{(i)})-y^{(i)})x_j^{(i)}\n",
        "\\end{align}"
      ]
    },
    {
      "cell_type": "code",
      "execution_count": null,
      "metadata": {
        "id": "7Nrjl1_KNozH"
      },
      "outputs": [],
      "source": [
        "#WRITE THE COST AND GRADIENT FUNCTION\n",
        "\n",
        "def costFunction(theta, X, y): #computes cost given predicted and actual values\n",
        "    m = len(y)\n",
        "    h = sigmoid(X @ theta)\n",
        "    J = (-1 / m) * (y.T @ np.log(h) + (1 - y).T @ np.log(1 - h))\n",
        "    return J\n",
        "\n",
        "def compute_grad(theta, X, y):\n",
        "    m = len(y)\n",
        "    h = sigmoid(X @ theta)\n",
        "    grad = (1 / m) * (X.T @ (h - y))\n",
        "    return grad\n"
      ]
    },
    {
      "cell_type": "code",
      "execution_count": null,
      "metadata": {
        "colab": {
          "base_uri": "https://localhost:8080/"
        },
        "id": "i93QaKrkOIJR",
        "outputId": "d52eeccf-5150-485e-fa40-62216ec7de11"
      },
      "outputs": [
        {
          "output_type": "execute_result",
          "data": {
            "text/plain": [
              "(100, 2)"
            ]
          },
          "metadata": {},
          "execution_count": 22
        }
      ],
      "source": [
        "X.shape"
      ]
    },
    {
      "cell_type": "code",
      "execution_count": null,
      "metadata": {
        "colab": {
          "base_uri": "https://localhost:8080/"
        },
        "id": "ttS-wp3DOIJS",
        "outputId": "011a7659-eb3d-43c5-d0c8-b1a715917644"
      },
      "outputs": [
        {
          "output_type": "execute_result",
          "data": {
            "text/plain": [
              "(3, 1)"
            ]
          },
          "metadata": {},
          "execution_count": 23
        }
      ],
      "source": [
        "A = np.reshape(initial_theta,(len(initial_theta),1))\n",
        "A.shape"
      ]
    },
    {
      "cell_type": "markdown",
      "metadata": {
        "id": "EYkkrApBN1ef"
      },
      "source": [
        "Initialize the data"
      ]
    },
    {
      "cell_type": "code",
      "execution_count": null,
      "metadata": {
        "id": "EZgQFZUsNsJF"
      },
      "outputs": [],
      "source": [
        "#Setup the data matrix appropriately\n",
        "m,n = np.shape(X)\n",
        "\n",
        "#Add intercept term to X\n",
        "#HINT FIRST CREATE A Column Matrix of Ones and then use hstack to add it to X\n",
        "X = np.hstack((np.ones((m, 1)), X))\n",
        "\n",
        "#Initialize the fitting parameters\n",
        "initial_theta = np.zeros((3 ,1))\n"
      ]
    },
    {
      "cell_type": "code",
      "execution_count": null,
      "metadata": {
        "id": "xWCKvPuVOIJS"
      },
      "outputs": [],
      "source": []
    },
    {
      "cell_type": "markdown",
      "metadata": {
        "id": "sv_4mmP2N4uH"
      },
      "source": [
        "Compute the gradient"
      ]
    },
    {
      "cell_type": "code",
      "execution_count": null,
      "metadata": {
        "id": "l5KJ5I-NOLJN",
        "colab": {
          "base_uri": "https://localhost:8080/"
        },
        "outputId": "497d1a6d-20a9-49a8-b4e8-90717f8ee04b"
      },
      "outputs": [
        {
          "output_type": "stream",
          "name": "stdout",
          "text": [
            "Cost at initial theta (zeros): %f\n",
            " [0.69314718]\n"
          ]
        }
      ],
      "source": [
        "#Verify with MATLAB's test values\n",
        "cost = costFunction(initial_theta, X, y)\n",
        "print('Cost at initial theta (zeros): %f\\n', cost)"
      ]
    },
    {
      "cell_type": "code",
      "execution_count": null,
      "metadata": {
        "id": "FpZPmLxKV-wY",
        "scrolled": true,
        "colab": {
          "base_uri": "https://localhost:8080/"
        },
        "outputId": "e6001751-f0df-42de-a23c-b64c92216b3d"
      },
      "outputs": [
        {
          "output_type": "stream",
          "name": "stdout",
          "text": [
            "[[  0.5          0.5          0.5         -0.5         -0.5\n",
            "    0.5         -0.5         -0.5         -0.5         -0.5\n",
            "    0.5          0.5         -0.5         -0.5          0.5\n",
            "   -0.5         -0.5          0.5         -0.5         -0.5\n",
            "    0.5         -0.5          0.5          0.5         -0.5\n",
            "   -0.5         -0.5          0.5          0.5          0.5\n",
            "   -0.5         -0.5          0.5         -0.5          0.5\n",
            "    0.5          0.5         -0.5          0.5          0.5\n",
            "   -0.5          0.5         -0.5          0.5          0.5\n",
            "    0.5         -0.5         -0.5         -0.5         -0.5\n",
            "   -0.5         -0.5         -0.5          0.5          0.5\n",
            "    0.5         -0.5          0.5         -0.5         -0.5\n",
            "   -0.5          0.5          0.5          0.5          0.5\n",
            "    0.5         -0.5          0.5         -0.5         -0.5\n",
            "    0.5         -0.5         -0.5         -0.5         -0.5\n",
            "   -0.5         -0.5         -0.5          0.5          0.5\n",
            "   -0.5         -0.5         -0.5         -0.5         -0.5\n",
            "   -0.5          0.5         -0.5         -0.5          0.5\n",
            "   -0.5         -0.5          0.5         -0.5         -0.5\n",
            "   -0.5         -0.5         -0.5         -0.5         -0.5       ]\n",
            " [ 32.82213703  32.82213703  32.82213703 -32.82213703 -32.82213703\n",
            "   32.82213703 -32.82213703 -32.82213703 -32.82213703 -32.82213703\n",
            "   32.82213703  32.82213703 -32.82213703 -32.82213703  32.82213703\n",
            "  -32.82213703 -32.82213703  32.82213703 -32.82213703 -32.82213703\n",
            "   32.82213703 -32.82213703  32.82213703  32.82213703 -32.82213703\n",
            "  -32.82213703 -32.82213703  32.82213703  32.82213703  32.82213703\n",
            "  -32.82213703 -32.82213703  32.82213703 -32.82213703  32.82213703\n",
            "   32.82213703  32.82213703 -32.82213703  32.82213703  32.82213703\n",
            "  -32.82213703  32.82213703 -32.82213703  32.82213703  32.82213703\n",
            "   32.82213703 -32.82213703 -32.82213703 -32.82213703 -32.82213703\n",
            "  -32.82213703 -32.82213703 -32.82213703  32.82213703  32.82213703\n",
            "   32.82213703 -32.82213703  32.82213703 -32.82213703 -32.82213703\n",
            "  -32.82213703  32.82213703  32.82213703  32.82213703  32.82213703\n",
            "   32.82213703 -32.82213703  32.82213703 -32.82213703 -32.82213703\n",
            "   32.82213703 -32.82213703 -32.82213703 -32.82213703 -32.82213703\n",
            "  -32.82213703 -32.82213703 -32.82213703  32.82213703  32.82213703\n",
            "  -32.82213703 -32.82213703 -32.82213703 -32.82213703 -32.82213703\n",
            "  -32.82213703  32.82213703 -32.82213703 -32.82213703  32.82213703\n",
            "  -32.82213703 -32.82213703  32.82213703 -32.82213703 -32.82213703\n",
            "  -32.82213703 -32.82213703 -32.82213703 -32.82213703 -32.82213703]\n",
            " [ 33.11099904  33.11099904  33.11099904 -33.11099904 -33.11099904\n",
            "   33.11099904 -33.11099904 -33.11099904 -33.11099904 -33.11099904\n",
            "   33.11099904  33.11099904 -33.11099904 -33.11099904  33.11099904\n",
            "  -33.11099904 -33.11099904  33.11099904 -33.11099904 -33.11099904\n",
            "   33.11099904 -33.11099904  33.11099904  33.11099904 -33.11099904\n",
            "  -33.11099904 -33.11099904  33.11099904  33.11099904  33.11099904\n",
            "  -33.11099904 -33.11099904  33.11099904 -33.11099904  33.11099904\n",
            "   33.11099904  33.11099904 -33.11099904  33.11099904  33.11099904\n",
            "  -33.11099904  33.11099904 -33.11099904  33.11099904  33.11099904\n",
            "   33.11099904 -33.11099904 -33.11099904 -33.11099904 -33.11099904\n",
            "  -33.11099904 -33.11099904 -33.11099904  33.11099904  33.11099904\n",
            "   33.11099904 -33.11099904  33.11099904 -33.11099904 -33.11099904\n",
            "  -33.11099904  33.11099904  33.11099904  33.11099904  33.11099904\n",
            "   33.11099904 -33.11099904  33.11099904 -33.11099904 -33.11099904\n",
            "   33.11099904 -33.11099904 -33.11099904 -33.11099904 -33.11099904\n",
            "  -33.11099904 -33.11099904 -33.11099904  33.11099904  33.11099904\n",
            "  -33.11099904 -33.11099904 -33.11099904 -33.11099904 -33.11099904\n",
            "  -33.11099904  33.11099904 -33.11099904 -33.11099904  33.11099904\n",
            "  -33.11099904 -33.11099904  33.11099904 -33.11099904 -33.11099904\n",
            "  -33.11099904 -33.11099904 -33.11099904 -33.11099904 -33.11099904]]\n"
          ]
        }
      ],
      "source": [
        "grad = compute_grad(initial_theta, X, y)\n",
        "print(grad)"
      ]
    },
    {
      "cell_type": "code",
      "execution_count": null,
      "metadata": {
        "colab": {
          "base_uri": "https://localhost:8080/"
        },
        "id": "LFbyP-niOIJT",
        "outputId": "83867a2c-39a2-4c03-ca22-37533013c9bf"
      },
      "outputs": [
        {
          "output_type": "execute_result",
          "data": {
            "text/plain": [
              "0.20349770159878225"
            ]
          },
          "metadata": {},
          "execution_count": 27
        }
      ],
      "source": [
        "import scipy.optimize as opt\n",
        "result = opt.fmin_tnc(func=costFunction, x0=initial_theta.flatten(), fprime=compute_grad, args=(X, y.flatten()))\n",
        "theta = result[0]\n",
        "costFunction(theta, X, y)\n"
      ]
    },
    {
      "cell_type": "code",
      "execution_count": null,
      "metadata": {
        "colab": {
          "base_uri": "https://localhost:8080/"
        },
        "id": "ggmw9bpBOIJT",
        "outputId": "40d6e8b2-03f0-4d87-ccf7-33f3aadfe6aa"
      },
      "outputs": [
        {
          "output_type": "stream",
          "name": "stdout",
          "text": [
            "accuracy = 89%\n"
          ]
        }
      ],
      "source": [
        "def predict(theta, X):\n",
        "    '''Predict whether the label is 0 or 1 using learned logistic regression parameters theta'''\n",
        "    m = X.shape[0]\n",
        "    p = np.zeros(m)\n",
        "    h = sigmoid(X @ theta.T)\n",
        "    for n in range(m):\n",
        "      if h[n] > 0.5:\n",
        "        p[n] = 1\n",
        "      else:\n",
        "        p[n] = 0\n",
        "    return p\n",
        "\n",
        "theta_min = np.matrix(result[0])\n",
        "predictions = predict(theta_min, X)\n",
        "correct = [1 if ((a == 1 and b == 1) or (a == 0 and b == 0)) else 0 for (a, b) in zip(predictions, y)]\n",
        "accuracy = (sum(map(int, correct)) % len(correct))\n",
        "print ('accuracy = {0}%'.format(accuracy))"
      ]
    }
  ],
  "metadata": {
    "colab": {
      "provenance": []
    },
    "kernelspec": {
      "display_name": "Python 3 (ipykernel)",
      "language": "python",
      "name": "python3"
    },
    "language_info": {
      "codemirror_mode": {
        "name": "ipython",
        "version": 3
      },
      "file_extension": ".py",
      "mimetype": "text/x-python",
      "name": "python",
      "nbconvert_exporter": "python",
      "pygments_lexer": "ipython3",
      "version": "3.8.10"
    }
  },
  "nbformat": 4,
  "nbformat_minor": 0
}