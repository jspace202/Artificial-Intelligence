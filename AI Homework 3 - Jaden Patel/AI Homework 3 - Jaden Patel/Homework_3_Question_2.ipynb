{
  "cells": [
    {
      "cell_type": "markdown",
      "metadata": {
        "id": "cOtcY595bXJV"
      },
      "source": [
        "##Import Functions"
      ]
    },
    {
      "cell_type": "code",
      "execution_count": 189,
      "metadata": {
        "id": "glBTPJ1-ciDV"
      },
      "outputs": [],
      "source": [
        "## Import Necessary Functions \n",
        "import numpy as np\n",
        "import matplotlib.pyplot as plt\n"
      ]
    },
    {
      "cell_type": "code",
      "execution_count": 190,
      "metadata": {
        "id": "MG8VfxRcbVDH"
      },
      "outputs": [],
      "source": [
        "#You will use Vine Dataset you can get the detail in the URL below\n",
        "#https://archive.ics.uci.edu/ml/datasets/Wine\n",
        "\n",
        "from sklearn.datasets import load_wine\n",
        "vine = load_wine()\n"
      ]
    },
    {
      "cell_type": "code",
      "execution_count": 191,
      "metadata": {
        "colab": {
          "base_uri": "https://localhost:8080/"
        },
        "id": "wnJXKjrsbk4t",
        "outputId": "7e915efb-1a77-4c22-e2a3-67da9a6c042d"
      },
      "outputs": [
        {
          "output_type": "stream",
          "name": "stdout",
          "text": [
            "(178, 13)\n",
            "(178,)\n",
            "0\n"
          ]
        }
      ],
      "source": [
        "# PRINT FOR YOUR INTUITION SO YOU KNOW THE DIMENSIONS YOU ARE WORKING WITH\n",
        "print(vine.data.shape) #.data contains the features\n",
        "print(vine.target.shape)\n",
        "print(vine.target[0]) #.target contains the target variables"
      ]
    },
    {
      "cell_type": "code",
      "execution_count": 192,
      "metadata": {
        "id": "dXrLvDD9eAQy"
      },
      "outputs": [],
      "source": [
        "#SPLIT THE DATA INTO TRAINING AND TESTING SET\n",
        "#WHEN CALLING THE DATA use vine.data instance as well as vine.target.astype('int')\n",
        "#THE SPLIT OF DATA IS UPTO YOU\n",
        "\n",
        "from sklearn.model_selection import train_test_split\n",
        "X2_train, X2_test, y2_train, y2_test = train_test_split(vine.data, vine.target.astype('int'))"
      ]
    },
    {
      "cell_type": "code",
      "execution_count": 193,
      "metadata": {
        "colab": {
          "base_uri": "https://localhost:8080/"
        },
        "id": "AHwQkiVyeCxy",
        "outputId": "f5a5c6eb-ab75-46b6-91d0-d0d3f51dd8d3"
      },
      "outputs": [
        {
          "output_type": "stream",
          "name": "stdout",
          "text": [
            "[1 2 0 1 1 0 1 0 0 0 2 0 1 0 0 2 0 1 1 2 0 1 1 2 0 1 1 2 0 1 0 0 1 0 2 1 1\n",
            " 1 1 2 1 1 1 1 2 2 0 2 0 0 1 1 1 1 1 2 0 1 2 1 0 0 2 1 1 2 2 0 0 0 2 0 1 1\n",
            " 0 0 2 0 1 0 2 1 2 1 2 0 1 2 0 2 0 0 2 1 1 0 2 1 2 0 1 2 1 0 1 0 1 1 2 2 1\n",
            " 2 0 0 1 1 1 2 0 2 0 2 1 1 1 0 1 0 0 1 1 2 2]\n",
            "[2 0 1 0 1 2 0 0 1 2 0 2 0 2 1 1 2 0 1 1 2 1 2 0 2 1 1 0 1 0 2 1 1 2 0 0 1\n",
            " 0 0 1 0 1 2 1 2]\n"
          ]
        }
      ],
      "source": [
        "#CHECK THE DIMSIONS\n",
        "X2_train.shape, X2_test.shape\n",
        "print(y2_train) \n",
        "print(y2_test)"
      ]
    },
    {
      "cell_type": "code",
      "execution_count": 194,
      "metadata": {
        "colab": {
          "base_uri": "https://localhost:8080/",
          "height": 336
        },
        "id": "nJjzt73seEXa",
        "outputId": "89589293-08ad-4045-9af9-a42fe416f3ac"
      },
      "outputs": [
        {
          "output_type": "display_data",
          "data": {
            "text/plain": [
              "<Figure size 720x360 with 2 Axes>"
            ],
            "image/png": "[encoded data removed]"
          },
          "metadata": {
            "needs_background": "light"
          }
        }
      ],
      "source": [
        "#CHECK THE FREQUENCY FOR YOUR INTUITION\n",
        "plt.figure(figsize=(10,5))\n",
        "plt.subplot(1,2,1)\n",
        "plt.hist(y2_train);\n",
        "plt.title('Frequency of different classes - Training data');\n",
        "\n",
        "plt.subplot(1,2,2)\n",
        "plt.hist(y2_test);\n",
        "plt.title('Frequency of different classes - Test data');\n"
      ]
    },
    {
      "cell_type": "code",
      "execution_count": 195,
      "metadata": {
        "id": "ok3-svadeG_y"
      },
      "outputs": [],
      "source": [
        "# DEFINE THE MODEL USING LogisticRegression Function\n",
        "\n",
        "from sklearn.linear_model import LogisticRegression\n",
        "\n",
        "clf2 = LogisticRegression(C=50, max_iter=5, n_jobs=5, penalty='l1', solver='saga', tol=0.01, verbose=2)\n"
      ]
    },
    {
      "cell_type": "code",
      "execution_count": 196,
      "metadata": {
        "colab": {
          "base_uri": "https://localhost:8080/",
          "height": 199
        },
        "id": "pqt79IHqeJQC",
        "outputId": "7e1138e9-432e-4f33-d0e4-37af0ed3857d"
      },
      "outputs": [
        {
          "output_type": "stream",
          "name": "stdout",
          "text": [
            "max_iter reached after 0 seconds\n"
          ]
        },
        {
          "output_type": "stream",
          "name": "stderr",
          "text": [
            "[Parallel(n_jobs=5)]: Using backend ThreadingBackend with 5 concurrent workers.\n",
            "/usr/local/lib/python3.9/dist-packages/sklearn/linear_model/_sag.py:350: ConvergenceWarning: The max_iter was reached which means the coef_ did not converge\n",
            "  warnings.warn(\n",
            "[Parallel(n_jobs=5)]: Done   1 out of   1 | elapsed:    0.1s finished\n"
          ]
        },
        {
          "output_type": "execute_result",
          "data": {
            "text/plain": [
              "LogisticRegression(C=50, max_iter=5, n_jobs=5, penalty='l1', solver='saga',\n",
              "                   tol=0.01, verbose=2)"
            ],
            "text/html": [
              "<style>#sk-container-id-16 {color: black;background-color: white;}#sk-container-id-16 pre{padding: 0;}#sk-container-id-16 div.sk-toggleable {background-color: white;}#sk-container-id-16 label.sk-toggleable__label {cursor: pointer;display: block;width: 100%;margin-bottom: 0;padding: 0.3em;box-sizing: border-box;text-align: center;}#sk-container-id-16 label.sk-toggleable__label-arrow:before {content: \"▸\";float: left;margin-right: 0.25em;color: #696969;}#sk-container-id-16 label.sk-toggleable__label-arrow:hover:before {color: black;}#sk-container-id-16 div.sk-estimator:hover label.sk-toggleable__label-arrow:before {color: black;}#sk-container-id-16 div.sk-toggleable__content {max-height: 0;max-width: 0;overflow: hidden;text-align: left;background-color: #f0f8ff;}#sk-container-id-16 div.sk-toggleable__content pre {margin: 0.2em;color: black;border-radius: 0.25em;background-color: #f0f8ff;}#sk-container-id-16 input.sk-toggleable__control:checked~div.sk-toggleable__content {max-height: 200px;max-width: 100%;overflow: auto;}#sk-container-id-16 input.sk-toggleable__control:checked~label.sk-toggleable__label-arrow:before {content: \"▾\";}#sk-container-id-16 div.sk-estimator input.sk-toggleable__control:checked~label.sk-toggleable__label {background-color: #d4ebff;}#sk-container-id-16 div.sk-label input.sk-toggleable__control:checked~label.sk-toggleable__label {background-color: #d4ebff;}#sk-container-id-16 input.sk-hidden--visually {border: 0;clip: rect(1px 1px 1px 1px);clip: rect(1px, 1px, 1px, 1px);height: 1px;margin: -1px;overflow: hidden;padding: 0;position: absolute;width: 1px;}#sk-container-id-16 div.sk-estimator {font-family: monospace;background-color: #f0f8ff;border: 1px dotted black;border-radius: 0.25em;box-sizing: border-box;margin-bottom: 0.5em;}#sk-container-id-16 div.sk-estimator:hover {background-color: #d4ebff;}#sk-container-id-16 div.sk-parallel-item::after {content: \"\";width: 100%;border-bottom: 1px solid gray;flex-grow: 1;}#sk-container-id-16 div.sk-label:hover label.sk-toggleable__label {background-color: #d4ebff;}#sk-container-id-16 div.sk-serial::before {content: \"\";position: absolute;border-left: 1px solid gray;box-sizing: border-box;top: 0;bottom: 0;left: 50%;z-index: 0;}#sk-container-id-16 div.sk-serial {display: flex;flex-direction: column;align-items: center;background-color: white;padding-right: 0.2em;padding-left: 0.2em;position: relative;}#sk-container-id-16 div.sk-item {position: relative;z-index: 1;}#sk-container-id-16 div.sk-parallel {display: flex;align-items: stretch;justify-content: center;background-color: white;position: relative;}#sk-container-id-16 div.sk-item::before, #sk-container-id-16 div.sk-parallel-item::before {content: \"\";position: absolute;border-left: 1px solid gray;box-sizing: border-box;top: 0;bottom: 0;left: 50%;z-index: -1;}#sk-container-id-16 div.sk-parallel-item {display: flex;flex-direction: column;z-index: 1;position: relative;background-color: white;}#sk-container-id-16 div.sk-parallel-item:first-child::after {align-self: flex-end;width: 50%;}#sk-container-id-16 div.sk-parallel-item:last-child::after {align-self: flex-start;width: 50%;}#sk-container-id-16 div.sk-parallel-item:only-child::after {width: 0;}#sk-container-id-16 div.sk-dashed-wrapped {border: 1px dashed gray;margin: 0 0.4em 0.5em 0.4em;box-sizing: border-box;padding-bottom: 0.4em;background-color: white;}#sk-container-id-16 div.sk-label label {font-family: monospace;font-weight: bold;display: inline-block;line-height: 1.2em;}#sk-container-id-16 div.sk-label-container {text-align: center;}#sk-container-id-16 div.sk-container {/* jupyter's `normalize.less` sets `[hidden] { display: none; }` but bootstrap.min.css set `[hidden] { display: none !important; }` so we also need the `!important` here to be able to override the default hidden behavior on the sphinx rendered scikit-learn.org. See: https://github.com/scikit-learn/scikit-learn/issues/21755 */display: inline-block !important;position: relative;}#sk-container-id-16 div.sk-text-repr-fallback {display: none;}</style><div id=\"sk-container-id-16\" class=\"sk-top-container\"><div class=\"sk-text-repr-fallback\"><pre>LogisticRegression(C=50, max_iter=5, n_jobs=5, penalty=&#x27;l1&#x27;, solver=&#x27;saga&#x27;,\n",
              "                   tol=0.01, verbose=2)</pre><b>In a Jupyter environment, please rerun this cell to show the HTML representation or trust the notebook. <br />On GitHub, the HTML representation is unable to render, please try loading this page with nbviewer.org.</b></div><div class=\"sk-container\" hidden><div class=\"sk-item\"><div class=\"sk-estimator sk-toggleable\"><input class=\"sk-toggleable__control sk-hidden--visually\" id=\"sk-estimator-id-16\" type=\"checkbox\" checked><label for=\"sk-estimator-id-16\" class=\"sk-toggleable__label sk-toggleable__label-arrow\">LogisticRegression</label><div class=\"sk-toggleable__content\"><pre>LogisticRegression(C=50, max_iter=5, n_jobs=5, penalty=&#x27;l1&#x27;, solver=&#x27;saga&#x27;,\n",
              "                   tol=0.01, verbose=2)</pre></div></div></div></div></div>"
            ]
          },
          "metadata": {},
          "execution_count": 196
        }
      ],
      "source": [
        "#FIT THE DATA TO THE MODEL \n",
        "#WILL TAKE 3-5 MIN\n",
        "clf2.fit(X2_train, y2_train)"
      ]
    },
    {
      "cell_type": "markdown",
      "metadata": {
        "id": "sY5c25cbewgX"
      },
      "source": [
        "Score against training and test data"
      ]
    },
    {
      "cell_type": "code",
      "execution_count": 197,
      "metadata": {
        "colab": {
          "base_uri": "https://localhost:8080/"
        },
        "id": "_vmvbVZzeulE",
        "outputId": "21b5d330-c567-4e8b-a7dc-c2a4c4eb5816"
      },
      "outputs": [
        {
          "output_type": "stream",
          "name": "stdout",
          "text": [
            "0.6015037593984962\n"
          ]
        }
      ],
      "source": [
        "#using clf2.score to get the training score\n",
        "train_score2 = clf2.score(X2_train, y2_train)\n",
        "print(train_score2)"
      ]
    },
    {
      "cell_type": "code",
      "execution_count": 198,
      "metadata": {
        "colab": {
          "base_uri": "https://localhost:8080/"
        },
        "id": "wjtRUAfgey9j",
        "outputId": "b1572bca-d779-48c6-abaa-951e2eb3e8fb"
      },
      "outputs": [
        {
          "output_type": "stream",
          "name": "stdout",
          "text": [
            "0.5555555555555556\n"
          ]
        }
      ],
      "source": [
        "#similarly get the score for the test data\n",
        "test_score2 = clf2.score(X2_test, y2_test)\n",
        "print(test_score2)"
      ]
    },
    {
      "cell_type": "markdown",
      "metadata": {
        "id": "sheVa8-We2s9"
      },
      "source": [
        "Plot Confusion matrix"
      ]
    },
    {
      "cell_type": "code",
      "execution_count": 199,
      "metadata": {
        "id": "4xxjcntue5eC",
        "colab": {
          "base_uri": "https://localhost:8080/"
        },
        "outputId": "111d1851-6c97-4b71-9f53-2922bd19b6e2"
      },
      "outputs": [
        {
          "output_type": "stream",
          "name": "stdout",
          "text": [
            "[[15  0  0]\n",
            " [ 7 10  0]\n",
            " [ 9  4  0]]\n"
          ]
        }
      ],
      "source": [
        "from sklearn import metrics\n",
        "\n",
        "#FIRST GET THE PREDICTION USING clf2.predict\n",
        "y2_pred = clf2.predict(X2_test)\n",
        "\n",
        "#Then use metrics.confusion_matrix\n",
        "cm = metrics.confusion_matrix(y2_test, y2_pred)\n",
        "print(cm)"
      ]
    },
    {
      "cell_type": "code",
      "execution_count": 200,
      "metadata": {
        "id": "QfqR4Odte7X-",
        "colab": {
          "base_uri": "https://localhost:8080/",
          "height": 689
        },
        "outputId": "91a82b59-2135-4116-fad9-ac59cc7dcd64"
      },
      "outputs": [
        {
          "output_type": "display_data",
          "data": {
            "text/plain": [
              "<Figure size 864x864 with 2 Axes>"
            ],
            "image/png": "[encoded data removed]"
          },
          "metadata": {
            "needs_background": "light"
          }
        }
      ],
      "source": [
        "import seaborn as sns\n",
        "\n",
        "plt.figure(figsize=(12,12))\n",
        "sns.heatmap(cm, annot=True, linewidths=.5, square = True, cmap = 'Blues_r', fmt='0.4g');\n",
        "\n",
        "plt.ylabel('Actual label')\n",
        "plt.xlabel('Predicted label')\n",
        "all_sample_title = 'Accuracy Score: {0}'.format(test_score2)\n",
        "plt.title(all_sample_title);"
      ]
    },
    {
      "cell_type": "code",
      "execution_count": 200,
      "metadata": {
        "id": "3hAygThFpok8"
      },
      "outputs": [],
      "source": []
    }
  ],
  "metadata": {
    "colab": {
      "provenance": []
    },
    "kernelspec": {
      "display_name": "Python 3 (ipykernel)",
      "language": "python",
      "name": "python3"
    },
    "language_info": {
      "codemirror_mode": {
        "name": "ipython",
        "version": 3
      },
      "file_extension": ".py",
      "mimetype": "text/x-python",
      "name": "python",
      "nbconvert_exporter": "python",
      "pygments_lexer": "ipython3",
      "version": "3.8.10"
    }
  },
  "nbformat": 4,
  "nbformat_minor": 0
}